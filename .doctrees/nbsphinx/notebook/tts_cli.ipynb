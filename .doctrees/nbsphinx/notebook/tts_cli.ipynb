{
 "cells": [
  {
   "cell_type": "markdown",
   "metadata": {
    "colab_type": "text",
    "id": "wA10eXyHIv8X"
   },
   "source": [
    "# Text-to-Speech (Recipe)\n",
    "\n",
    "This is the example notebook of how-to-run the ESPnet TTS recipe using an4 dataset.  \n",
    "You can understand the overview of TTS recipe through this notebook within an hour!\n",
    "\n",
    "See also:\n",
    "- Documentaion: [https://espnet.github.io/espnet](https://espnet.github.io/espnet)\n",
    "- Github: [https://github.com/espnet](https://github.com/espnet)\n",
    "\n",
    "Author: [Tomoki Hayashi](https://github.com/kan-bayashi)\n",
    "\n",
    "Last update: 2019/07/25"
   ]
  },
  {
   "cell_type": "markdown",
   "metadata": {
    "colab_type": "text",
    "id": "8xWr9FADn0Rf"
   },
   "source": [
    "## Setup envrionment\n",
    "\n",
    "First, let's setup the environmet to run the recipe.  \n",
    "It take around 10 minues. Please keep waiting for a while.\n"
   ]
  },
  {
   "cell_type": "code",
   "execution_count": 0,
   "metadata": {
    "colab": {},
    "colab_type": "code",
    "collapsed": true,
    "id": "J6k0hPgzjxA5"
   },
   "outputs": [],
   "source": [
    "# OS setup\n",
    "!sudo apt-get install bc tree\n",
    "!cat /etc/os-release\n",
    "\n",
    "# espnet setup\n",
    "!git clone https://github.com/espnet/espnet\n",
    "!cd espnet; pip install -e .\n",
    "\n",
    "# warp ctc setup\n",
    "!git clone https://github.com/espnet/warp-ctc -b pytorch-1.1\n",
    "!cd warp-ctc && mkdir build && cd build && cmake .. && make -j\n",
    "!cd warp-ctc/pytorch_binding && python setup.py install \n",
    "\n",
    "# kaldi setup\n",
    "!cd /content/espnet/tools; git clone https://github.com/kaldi-asr/kaldi\n",
    "!echo \"\" > ./espnet/tools/kaldi/tools/extras/check_dependencies.sh # ignore check\n",
    "!chmod +x ./espnet/tools/kaldi/tools/extras/check_dependencies.sh\n",
    "!cd ./espnet/tools/kaldi/tools; make sph2pipe sclite\n",
    "!rm -rf espnet/tools/kaldi/tools/python\n",
    "!wget https://18-198329952-gh.circle-artifacts.com/0/home/circleci/repo/ubuntu16-featbin.tar.gz\n",
    "!tar -xf ./ubuntu16-featbin.tar.gz # take a few minutes\n",
    "!cp featbin/* espnet/tools/kaldi/src/featbin/\n",
    "\n",
    "# make dummy activate\n",
    "!mkdir -p espnet/tools/venv/bin\n",
    "!touch espnet/tools/venv/bin/activate"
   ]
  },
  {
   "cell_type": "markdown",
   "metadata": {
    "colab_type": "text",
    "id": "QhW6ey37Kj7y"
   },
   "source": [
    "## Run the recipe\n",
    "\n",
    "Now ready to run the recipe!   \n",
    "We use the most simplest recipe `egs/an4/tts1` as an example.  \n",
    "> Unfortunately, `egs/an4/tts1` is too small to generate reasonable speech.   \n",
    "> But you can understand the flow or TTS recipe through this recipe since all of the TTS recipes has the exactly same flow.\n"
   ]
  },
  {
   "cell_type": "code",
   "execution_count": 0,
   "metadata": {
    "colab": {},
    "colab_type": "code",
    "id": "z2G_kA8VpM8X"
   },
   "outputs": [],
   "source": [
    "# Let's go to an4 recipe!\n",
    "import os\n",
    "os.chdir(\"/content/espnet/egs/an4/tts1\")"
   ]
  },
  {
   "cell_type": "markdown",
   "metadata": {
    "colab_type": "text",
    "id": "kK-qFOFupi-I"
   },
   "source": [
    "Before running the recipe, let us check the recipe structure."
   ]
  },
  {
   "cell_type": "code",
   "execution_count": 3,
   "metadata": {
    "colab": {
     "base_uri": "https://localhost:8080/",
     "height": 295
    },
    "colab_type": "code",
    "id": "X6T2rNlSpVMV",
    "outputId": "2cc5b211-b004-43b8-afae-d15672464f90"
   },
   "outputs": [
    {
     "name": "stdout",
     "output_type": "stream",
     "text": [
      ".\n",
      "├── cmd.sh\n",
      "├── conf\n",
      "├── data\n",
      "├── downloads\n",
      "├── dump\n",
      "├── exp\n",
      "├── fbank\n",
      "├── local -> ../asr1/local\n",
      "├── path.sh\n",
      "├── run.sh\n",
      "├── steps -> ../../../tools/kaldi/egs/wsj/s5/steps\n",
      "├── tensorboard\n",
      "└── utils -> ../../../tools/kaldi/egs/wsj/s5/utils\n",
      "\n",
      "10 directories, 3 files\n"
     ]
    }
   ],
   "source": [
    "!tree -L 1"
   ]
  },
  {
   "cell_type": "markdown",
   "metadata": {
    "colab_type": "text",
    "id": "aGX_y4RMpqIK"
   },
   "source": [
    "Each recipe has the same structure and files.  \n",
    "\n",
    "- **run.sh**: Main script of the recipe. Once you run this script, all of the processing will be conducted from data download, preparation, feature extraction, training, and decoding.\n",
    "- **cmd.sh**: Command configuration source file about how-to-run each processing. You can modify this script if you want to run the script through job control system e.g. Slurm or Torque.\n",
    "- **path.sh**: Path configuration source file. Basically, we do not have to touch.\n",
    "- **conf/**: Directory containing configuration files.\n",
    "- **local/**: Directory containing the recipe-specific scripts e.g. data preparation.\n",
    "- **steps/** and **utils/**: Directory containing kaldi tools.\n",
    "\n",
    "Main script **run.sh** consists of several stages:\n",
    "\n",
    "- **stage -1**: Download data if the data is available online.\n",
    "- **stage 0**: Prepare data to make kaldi-stype data directory.\n",
    "- **stage 1**: Extract feature vector, calculate statistics, and perform normalization.\n",
    "- **stage 2**: Prepare a dictionary and make json files for training.\n",
    "- **stage 3**: Train the E2E-TTS network.\n",
    "- **stage 4**: Decode mel-spectrogram using the trained network.\n",
    "- **stage 5**: Generate a waveform from a generated mel-spectrogram using Griffin-Lim.\n",
    "\n",
    "Currently, we support the following networks:\n",
    "- Tacotron2: [Natural TTS Synthesis by Conditioning WaveNet on Mel Spectrogram Predictions](https://arxiv.org/abs/1712.05884)\n",
    "- Transformer: [Neural Speech Synthesis with Transformer Network](https://arxiv.org/pdf/1809.08895.pdf)\n",
    "- FastSpeech: [FastSpeech: Fast, Robust and Controllable Text to Speech](https://arxiv.org/pdf/1905.09263.pdf)\n",
    "\n",
    "Let us check each stage step-by-step via **--stage** and **--stop_stage** options!\n"
   ]
  },
  {
   "cell_type": "markdown",
   "metadata": {
    "colab_type": "text",
    "id": "l6Zhc4iKLKeC"
   },
   "source": [
    "### Stage -1: Data download\n",
    "\n",
    "This stage downloads dataset if the dataset is available online."
   ]
  },
  {
   "cell_type": "code",
   "execution_count": 4,
   "metadata": {
    "colab": {
     "base_uri": "https://localhost:8080/",
     "height": 69
    },
    "colab_type": "code",
    "collapsed": true,
    "id": "8CNFWXETAeYC",
    "outputId": "e6559ffa-c534-4cfe-9295-f5a82924f8d7"
   },
   "outputs": [
    {
     "name": "stdout",
     "output_type": "stream",
     "text": [
      "stage -1: Data Download\n",
      "local/download_and_untar.sh: an4 directory already exists in ./downloads\n",
      "dictionary: data/lang_1char/train_nodev_units.txt\n"
     ]
    }
   ],
   "source": [
    "!./run.sh --stage -1 --stop_stage -1"
   ]
  },
  {
   "cell_type": "code",
   "execution_count": 5,
   "metadata": {
    "colab": {
     "base_uri": "https://localhost:8080/",
     "height": 312
    },
    "colab_type": "code",
    "id": "Y3FTgWO7w0Rf",
    "outputId": "250de278-54c6-4e28-fd85-64d8f84c2942"
   },
   "outputs": [
    {
     "name": "stdout",
     "output_type": "stream",
     "text": [
      ".\n",
      "├── cmd.sh\n",
      "├── conf\n",
      "├── data\n",
      "├── downloads\n",
      "├── dump\n",
      "├── exp\n",
      "├── fbank\n",
      "├── local -> ../asr1/local\n",
      "├── path.sh\n",
      "├── run.sh\n",
      "├── steps -> ../../../tools/kaldi/egs/wsj/s5/steps\n",
      "├── tensorboard\n",
      "└── utils -> ../../../tools/kaldi/egs/wsj/s5/utils\n",
      "\n",
      "10 directories, 3 files\n",
      "an4  an4_sphere.tar.gz\n"
     ]
    }
   ],
   "source": [
    "!tree -L 1\n",
    "!ls downloads/"
   ]
  },
  {
   "cell_type": "markdown",
   "metadata": {
    "colab_type": "text",
    "id": "lzqGzOqpw741"
   },
   "source": [
    "You can see **downloads** directory is cretead, which containing donwloaded an4 dataset."
   ]
  },
  {
   "cell_type": "markdown",
   "metadata": {
    "colab_type": "text",
    "id": "wa1OkxN3xSRx"
   },
   "source": [
    "### Stage 0: Data preparation\n",
    "\n",
    "This stage creates kaldi-style data directories."
   ]
  },
  {
   "cell_type": "code",
   "execution_count": 6,
   "metadata": {
    "colab": {
     "base_uri": "https://localhost:8080/",
     "height": 52
    },
    "colab_type": "code",
    "id": "ozLaRF1LA3Aq",
    "outputId": "5ac935b7-2fc7-415c-ccff-1b45e308adab"
   },
   "outputs": [
    {
     "name": "stdout",
     "output_type": "stream",
     "text": [
      "stage 0: Data preparation\n",
      "dictionary: data/lang_1char/train_nodev_units.txt\n"
     ]
    }
   ],
   "source": [
    "!./run.sh --stage 0 --stop_stage 0"
   ]
  },
  {
   "cell_type": "code",
   "execution_count": 7,
   "metadata": {
    "colab": {
     "base_uri": "https://localhost:8080/",
     "height": 156
    },
    "colab_type": "code",
    "id": "5Ch0fonjxep5",
    "outputId": "48bc5bd7-80e5-4794-9925-ae67c3fc51cb"
   },
   "outputs": [
    {
     "name": "stdout",
     "output_type": "stream",
     "text": [
      "data\n",
      "├── lang_1char\n",
      "├── test\n",
      "├── train\n",
      "├── train_dev\n",
      "└── train_nodev\n",
      "\n",
      "5 directories, 0 files\n"
     ]
    }
   ],
   "source": [
    "!tree -L 1 data"
   ]
  },
  {
   "cell_type": "markdown",
   "metadata": {
    "colab_type": "text",
    "id": "bF6wu5n3x9gD"
   },
   "source": [
    "Through the data preparation stage, kaldi-style data directories will be created.  \n",
    "Here, **data/train/** is corresponding to training set,  and **data/test** is corresponding to evaluation set.  \n",
    "Each directory has the same following files:"
   ]
  },
  {
   "cell_type": "code",
   "execution_count": 8,
   "metadata": {
    "colab": {
     "base_uri": "https://localhost:8080/",
     "height": 260
    },
    "colab_type": "code",
    "id": "G8goZ26ExwMw",
    "outputId": "75f31c83-f9a3-484a-83b8-fac3972e9137"
   },
   "outputs": [
    {
     "name": "stdout",
     "output_type": "stream",
     "text": [
      "data/lang_1char:\n",
      "train_nodev_units.txt\n",
      "\n",
      "data/test:\n",
      "feats.scp  filetype  spk2utt  text  utt2num_frames  utt2spk  wav.scp\n",
      "\n",
      "data/train:\n",
      "feats.scp  filetype  spk2utt  text  utt2num_frames  utt2spk  wav.scp\n",
      "\n",
      "data/train_dev:\n",
      "feats.scp  spk2utt  text  utt2num_frames  utt2spk  wav.scp\n",
      "\n",
      "data/train_nodev:\n",
      "cmvn.ark  feats.scp  spk2utt  text  utt2num_frames  utt2spk  wav.scp\n"
     ]
    }
   ],
   "source": [
    "!ls data/*"
   ]
  },
  {
   "cell_type": "markdown",
   "metadata": {
    "colab_type": "text",
    "id": "mrxmV_Ntx3gk"
   },
   "source": [
    "The above four files are all we have to prepare to create new recipes.  \n",
    "Let's check each file."
   ]
  },
  {
   "cell_type": "code",
   "execution_count": 9,
   "metadata": {
    "colab": {
     "base_uri": "https://localhost:8080/",
     "height": 347
    },
    "colab_type": "code",
    "id": "S5PJH9zxyqNg",
    "outputId": "88f99c71-9309-494c-ec36-82e3fd29c93d"
   },
   "outputs": [
    {
     "name": "stdout",
     "output_type": "stream",
     "text": [
      "==> data/train/wav.scp <==\n",
      "fash-an251-b /content/espnet/egs/an4/tts1/../../../tools/kaldi/tools/sph2pipe_v2.5/sph2pipe -f wav -p -c 1 ./downloads/an4/wav/an4_clstk/fash/an251-fash-b.sph |\n",
      "fash-an253-b /content/espnet/egs/an4/tts1/../../../tools/kaldi/tools/sph2pipe_v2.5/sph2pipe -f wav -p -c 1 ./downloads/an4/wav/an4_clstk/fash/an253-fash-b.sph |\n",
      "fash-an254-b /content/espnet/egs/an4/tts1/../../../tools/kaldi/tools/sph2pipe_v2.5/sph2pipe -f wav -p -c 1 ./downloads/an4/wav/an4_clstk/fash/an254-fash-b.sph |\n",
      "\n",
      "==> data/train/text <==\n",
      "fash-an251-b YES\n",
      "fash-an253-b GO\n",
      "fash-an254-b YES\n",
      "\n",
      "==> data/train/utt2spk <==\n",
      "fash-an251-b fash\n",
      "fash-an253-b fash\n",
      "fash-an254-b fash\n",
      "\n",
      "==> data/train/spk2utt <==\n",
      "fash fash-an251-b fash-an253-b fash-an254-b fash-an255-b fash-cen1-b fash-cen2-b fash-cen4-b fash-cen5-b fash-cen7-b\n",
      "fbbh fbbh-an86-b fbbh-an87-b fbbh-an88-b fbbh-an89-b fbbh-an90-b fbbh-cen1-b fbbh-cen2-b fbbh-cen3-b fbbh-cen4-b fbbh-cen5-b fbbh-cen6-b fbbh-cen7-b fbbh-cen8-b\n",
      "fclc fclc-an146-b fclc-an147-b fclc-an148-b fclc-an149-b fclc-an150-b fclc-cen1-b fclc-cen2-b fclc-cen3-b fclc-cen4-b fclc-cen5-b fclc-cen6-b fclc-cen7-b fclc-cen8-b\n"
     ]
    }
   ],
   "source": [
    "!head -n 3 data/train/{wav.scp,text,utt2spk,spk2utt}"
   ]
  },
  {
   "cell_type": "markdown",
   "metadata": {
    "colab_type": "text",
    "id": "EwPydMzvxbcA"
   },
   "source": [
    "Each file contains the following information:\n",
    "- **wav.scp**: List of audio path. Each line has `<utt_id> <wavfile_path or command pipe>`. `<utt_id>` must be unique.\n",
    "- **text**: List of transcriptions. Each line has `<utt_id> <transcription>`. In the case of TTS, we assume that `<transcription>` is cleaned.\n",
    "- **utt2spk**: List of correspondence table between utterances and speakers. Each line has `<utt_id> <speaker_id>`.\n",
    "- **spk2utt**: List of correspondence table between speakers and utterances. Each lien has `<speaker_id> <utt_id> ... <utt_id> `. This file can be automatically created from **utt2spk**. \n",
    "\n",
    "In the ESPnet, speaker information is not used for any processing.   \n",
    "Therefore, **utt2spk** and **spk2utt** can be a dummy."
   ]
  },
  {
   "cell_type": "markdown",
   "metadata": {
    "colab_type": "text",
    "id": "XEgfec6u1KWA"
   },
   "source": [
    "### Stage 1: Feature extration\n",
    "\n",
    "This stage performs the following processing:\n",
    "1. Mel-spectrogram extraction\n",
    "2. Data split into training and validation set\n",
    "2. Statistics (mean and variance) calculation\n",
    "3. Normalization"
   ]
  },
  {
   "cell_type": "code",
   "execution_count": 10,
   "metadata": {
    "colab": {
     "base_uri": "https://localhost:8080/",
     "height": 364
    },
    "colab_type": "code",
    "id": "znHW0IwbBX0o",
    "outputId": "957f9dce-c181-433a-812b-3c79d2933653"
   },
   "outputs": [
    {
     "name": "stdout",
     "output_type": "stream",
     "text": [
      "stage 1: Feature Generation\n",
      "/content/espnet/egs/an4/tts1/../../../utils/make_fbank.sh --cmd run.pl --nj 4 --fs 16000 --fmax  --fmin  --n_fft 1024 --n_shift 256 --win_length  --n_mels 80 data/train exp/make_fbank/train fbank\n",
      "/content/espnet/egs/an4/tts1/../../../utils/make_fbank.sh: moving data/train/feats.scp to data/train/.backup\n",
      "utils/validate_data_dir.sh: Successfully validated data-directory data/train\n",
      "/content/espnet/egs/an4/tts1/../../../utils/make_fbank.sh: [info]: no segments file exists: assuming pcm.scp indexed by utterance.\n",
      "Succeeded creating filterbank features for train\n",
      "/content/espnet/egs/an4/tts1/../../../utils/make_fbank.sh --cmd run.pl --nj 4 --fs 16000 --fmax  --fmin  --n_fft 1024 --n_shift 256 --win_length  --n_mels 80 data/test exp/make_fbank/test fbank\n",
      "/content/espnet/egs/an4/tts1/../../../utils/make_fbank.sh: moving data/test/feats.scp to data/test/.backup\n",
      "utils/validate_data_dir.sh: Successfully validated data-directory data/test\n",
      "/content/espnet/egs/an4/tts1/../../../utils/make_fbank.sh: [info]: no segments file exists: assuming pcm.scp indexed by utterance.\n",
      "Succeeded creating filterbank features for test\n",
      "utils/subset_data_dir.sh: reducing #utt from 948 to 100\n",
      "utils/subset_data_dir.sh: reducing #utt from 948 to 848\n",
      "compute-cmvn-stats scp:data/train_nodev/feats.scp data/train_nodev/cmvn.ark \n",
      "LOG (compute-cmvn-stats[5.5.428~1-29b3]:main():compute-cmvn-stats.cc:168) Wrote global CMVN stats to data/train_nodev/cmvn.ark\n",
      "LOG (compute-cmvn-stats[5.5.428~1-29b3]:main():compute-cmvn-stats.cc:171) Done accumulating CMVN stats for 848 utterances; 0 had errors.\n",
      "/content/espnet/egs/an4/tts1/../../../utils/dump.sh --cmd run.pl --nj 4 --do_delta false data/train_nodev/feats.scp data/train_nodev/cmvn.ark exp/dump_feats/train dump/train_nodev\n",
      "/content/espnet/egs/an4/tts1/../../../utils/dump.sh --cmd run.pl --nj 4 --do_delta false data/train_dev/feats.scp data/train_nodev/cmvn.ark exp/dump_feats/dev dump/train_dev\n",
      "/content/espnet/egs/an4/tts1/../../../utils/dump.sh --cmd run.pl --nj 4 --do_delta false data/test/feats.scp data/train_nodev/cmvn.ark exp/dump_feats/eval dump/test\n",
      "dictionary: data/lang_1char/train_nodev_units.txt\n"
     ]
    }
   ],
   "source": [
    "!./run.sh --stage 1 --stop_stage 1 --nj 4"
   ]
  },
  {
   "cell_type": "markdown",
   "metadata": {
    "colab_type": "text",
    "id": "ONBddj474CwB"
   },
   "source": [
    "Raw filterbanks are saved in **fbank/** directory with ark/scp format."
   ]
  },
  {
   "cell_type": "code",
   "execution_count": 11,
   "metadata": {
    "colab": {
     "base_uri": "https://localhost:8080/",
     "height": 121
    },
    "colab_type": "code",
    "id": "udo85LqA19Yq",
    "outputId": "73535451-9620-4439-ad63-4d498608e01e"
   },
   "outputs": [
    {
     "name": "stdout",
     "output_type": "stream",
     "text": [
      "raw_fbank_test.1.ark  raw_fbank_test.4.ark   raw_fbank_train.3.ark\n",
      "raw_fbank_test.1.scp  raw_fbank_test.4.scp   raw_fbank_train.3.scp\n",
      "raw_fbank_test.2.ark  raw_fbank_train.1.ark  raw_fbank_train.4.ark\n",
      "raw_fbank_test.2.scp  raw_fbank_train.1.scp  raw_fbank_train.4.scp\n",
      "raw_fbank_test.3.ark  raw_fbank_train.2.ark\n",
      "raw_fbank_test.3.scp  raw_fbank_train.2.scp\n"
     ]
    }
   ],
   "source": [
    "!ls fbank"
   ]
  },
  {
   "cell_type": "markdown",
   "metadata": {
    "colab_type": "text",
    "id": "e9OS6JIp474Z"
   },
   "source": [
    "**.ark** is binary file and **.scp** contain the correspondence between `<utt_id>` and `<path_in_ark>`.  \n",
    "Since feature extraction can be performed for split small sets in parallel, raw_fbank is split into `raw_fbank_*.{1..N}.{scp,ark}.`"
   ]
  },
  {
   "cell_type": "code",
   "execution_count": 12,
   "metadata": {
    "colab": {
     "base_uri": "https://localhost:8080/",
     "height": 69
    },
    "colab_type": "code",
    "id": "tuPfH0ly46Ko",
    "outputId": "76de2cad-96b9-4781-afd3-7509960de58c"
   },
   "outputs": [
    {
     "name": "stdout",
     "output_type": "stream",
     "text": [
      "fash-an251-b /content/espnet/egs/an4/tts1/fbank/raw_fbank_train.1.ark:13\n",
      "fash-an253-b /content/espnet/egs/an4/tts1/fbank/raw_fbank_train.1.ark:5727\n",
      "fash-an254-b /content/espnet/egs/an4/tts1/fbank/raw_fbank_train.1.ark:9921\n"
     ]
    }
   ],
   "source": [
    "!head -n 3 fbank/raw_fbank_train.1.scp"
   ]
  },
  {
   "cell_type": "markdown",
   "metadata": {
    "colab_type": "text",
    "id": "oj1bx25q5bl_"
   },
   "source": [
    "These files can be loaded in python via **kaldiio** as follows:"
   ]
  },
  {
   "cell_type": "code",
   "execution_count": 13,
   "metadata": {
    "colab": {
     "base_uri": "https://localhost:8080/",
     "height": 545
    },
    "colab_type": "code",
    "id": "3K0uiQgB5aYK",
    "outputId": "d7797bdd-820b-45e4-ca91-ea821d5e7b36"
   },
   "outputs": [
    {
     "data": {
      "image/png": "[encoded data removed]",
      "text/plain": [
       "<Figure size 432x288 with 2 Axes>"
      ]
     },
     "metadata": {
      "tags": []
     },
     "output_type": "display_data"
    },
    {
     "data": {
      "image/png": "[encoded data removed]",
      "text/plain": [
       "<Figure size 432x288 with 2 Axes>"
      ]
     },
     "metadata": {
      "tags": []
     },
     "output_type": "display_data"
    }
   ],
   "source": [
    "import kaldiio\n",
    "import matplotlib.pyplot as plt\n",
    "\n",
    "# load scp file\n",
    "scp_dict = kaldiio.load_scp(\"fbank/raw_fbank_train.1.scp\")\n",
    "for key in scp_dict:\n",
    "    plt.imshow(scp_dict[key].T[::-1])\n",
    "    plt.title(key)\n",
    "    plt.colorbar()\n",
    "    plt.show()\n",
    "    break\n",
    "    \n",
    "# load ark file\n",
    "ark_generator = kaldiio.load_ark(\"fbank/raw_fbank_train.1.ark\")\n",
    "for key, array in ark_generator:\n",
    "    plt.imshow(array.T[::-1])\n",
    "    plt.title(key)\n",
    "    plt.colorbar()\n",
    "    plt.show()\n",
    "    break"
   ]
  },
  {
   "cell_type": "markdown",
   "metadata": {
    "colab_type": "text",
    "id": "-Au70T7i8ctz"
   },
   "source": [
    "After raw mel-spectrogram extraction, some files are added in **data/train/**.  \n",
    "**feats.scp** is concatenated scp file of **fbank/raw_fbank_train.{1..N}.scp**.  \n",
    "**utt2num_frames** has the number of feature frames of each `<utt_id>`."
   ]
  },
  {
   "cell_type": "code",
   "execution_count": 14,
   "metadata": {
    "colab": {
     "base_uri": "https://localhost:8080/",
     "height": 191
    },
    "colab_type": "code",
    "id": "ySykrx407Tek",
    "outputId": "a0829cb1-f291-4d51-cd17-e7da04ec3d53"
   },
   "outputs": [
    {
     "name": "stdout",
     "output_type": "stream",
     "text": [
      "feats.scp  filetype  spk2utt  text  utt2num_frames  utt2spk  wav.scp\n",
      "==> data/train/feats.scp <==\n",
      "fash-an251-b /content/espnet/egs/an4/tts1/fbank/raw_fbank_train.1.ark:13\n",
      "fash-an253-b /content/espnet/egs/an4/tts1/fbank/raw_fbank_train.1.ark:5727\n",
      "fash-an254-b /content/espnet/egs/an4/tts1/fbank/raw_fbank_train.1.ark:9921\n",
      "\n",
      "==> data/train/utt2num_frames <==\n",
      "fash-an251-b 63\n",
      "fash-an253-b 44\n",
      "fash-an254-b 57\n"
     ]
    }
   ],
   "source": [
    "!ls data/train\n",
    "!head -n 3 data/train/{feats.scp,utt2num_frames}"
   ]
  },
  {
   "cell_type": "markdown",
   "metadata": {
    "colab_type": "text",
    "id": "qt4s7lkl9miZ"
   },
   "source": [
    "And **data/train/** directory is split into two directory:\n",
    "- **data/train_nodev/**: data directory for training\n",
    "- **data/train_dev/**: data directory for validation\n"
   ]
  },
  {
   "cell_type": "code",
   "execution_count": 15,
   "metadata": {
    "colab": {
     "base_uri": "https://localhost:8080/",
     "height": 121
    },
    "colab_type": "code",
    "id": "Yq6WNznw9P4z",
    "outputId": "be2c96cc-c9fb-4068-b1d0-3367a15cbb8f"
   },
   "outputs": [
    {
     "name": "stdout",
     "output_type": "stream",
     "text": [
      "lang_1char  test  train  train_dev  train_nodev\n",
      "data/train_dev:\n",
      "feats.scp  spk2utt  text  utt2num_frames  utt2spk  wav.scp\n",
      "\n",
      "data/train_nodev:\n",
      "cmvn.ark  feats.scp  spk2utt  text  utt2num_frames  utt2spk  wav.scp\n"
     ]
    }
   ],
   "source": [
    "!ls data\n",
    "!ls data/train_*"
   ]
  },
  {
   "cell_type": "markdown",
   "metadata": {
    "colab_type": "text",
    "id": "Fw_KBzQCBN0E"
   },
   "source": [
    "You can find **cmvn.ark** in **data/train_nodev**, which is the calculated statistics file.  \n",
    "This file also can be loaded in python via kaldiio.\n"
   ]
  },
  {
   "cell_type": "code",
   "execution_count": 16,
   "metadata": {
    "colab": {
     "base_uri": "https://localhost:8080/",
     "height": 521
    },
    "colab_type": "code",
    "id": "s5YxfvNwBIlG",
    "outputId": "76ce0685-53e6-4ff3-9195-8dcdeb35b3cf"
   },
   "outputs": [
    {
     "name": "stdout",
     "output_type": "stream",
     "text": [
      "cmvn shape = (2, 81)\n",
      "mean = [-2.3015275 -2.1957324 -1.9654763 -1.9376634 -1.7633141 -1.6846672\n",
      " -1.7875645 -1.9486219 -1.9248276 -1.8872185 -1.9270604 -1.991474\n",
      " -1.9778731 -2.09246   -2.1971824 -2.209918  -2.3019788 -2.2964242\n",
      " -2.32575   -2.3705876 -2.40271   -2.449803  -2.4300003 -2.466036\n",
      " -2.5255735 -2.5386114 -2.582323  -2.5250685 -2.6118424 -2.632455\n",
      " -2.6633208 -2.672028  -2.6356308 -2.6361263 -2.6829064 -2.691491\n",
      " -2.694131  -2.675015  -2.6734142 -2.665589  -2.6630545 -2.6658235\n",
      " -2.657909  -2.6691167 -2.6635575 -2.6643658 -2.6674545 -2.661883\n",
      " -2.6606252 -2.657067  -2.6489155 -2.6527998 -2.6650834 -2.678152\n",
      " -2.698867  -2.708589  -2.7201533 -2.7215238 -2.7254083 -2.7388637\n",
      " -2.7713299 -2.8122768 -2.8621979 -2.9113584 -2.9572158 -3.0068166\n",
      " -3.0537205 -3.1046875 -3.160605  -3.2164888 -3.2550604 -3.2886407\n",
      " -3.3207698 -3.3445303 -3.3530545 -3.3561647 -3.357716  -3.3631625\n",
      " -3.3077478 -3.2325494]\n",
      "variance = [ 5.478512   5.1941466  4.6532855  4.389601   3.6336286  3.4551063\n",
      "  3.7337823  4.3736997  4.2437925  4.1938186  4.4535246  4.6856284\n",
      "  4.5197277  4.960779   5.486998   5.5303926  5.9634395  5.9297132\n",
      "  6.0229506  6.2188787  6.402854   6.6038113  6.456947   6.6182714\n",
      "  6.9164844  6.9951644  7.2030034  6.832003   7.333239   7.455782\n",
      "  7.639241   7.6680694  7.402422   7.3907475  7.693637   7.768753\n",
      "  7.773008   7.671266   7.682944   7.639572   7.626395   7.6473846\n",
      "  7.611816   7.679605   7.6519523  7.658576   7.6860723  7.670902\n",
      "  7.6756134  7.674951   7.639459   7.6657314  7.7366185  7.789132\n",
      "  7.8906317  7.934334   8.0020485  8.016449   8.038348   8.104283\n",
      "  8.278971   8.490983   8.759398   9.036307   9.297286   9.589112\n",
      "  9.866017  10.173562  10.518697  10.873265  11.115793  11.32935\n",
      " 11.530077  11.672476  11.716665  11.724409  11.7235985 11.751684\n",
      " 11.366631  10.894848 ]\n"
     ]
    }
   ],
   "source": [
    "# load cmvn.ark file (Be careful not load_ark, but load_mat)\n",
    "cmvn = kaldiio.load_mat(\"data/train_nodev/cmvn.ark\")\n",
    "\n",
    "# cmvn consists of mean and variance, the last dimension of mean represents the number of frames.\n",
    "print(\"cmvn shape = \"+ str(cmvn.shape))\n",
    "\n",
    "# calculate mean and variance\n",
    "mu = cmvn[0, :-1] / cmvn[0, -1]\n",
    "var = cmvn[1, :-1] / cmvn[0, -1]\n",
    "\n",
    "# show mean\n",
    "print(\"mean = \" + str(mu))\n",
    "print(\"variance = \" + str(var))"
   ]
  },
  {
   "cell_type": "markdown",
   "metadata": {
    "colab_type": "text",
    "id": "pTCG1CPRDN5H"
   },
   "source": [
    "Normalzed features for training, validation and evaluation set are dumped in **dump/{train_nodev,train_dev,test}/**.  \n",
    "There ark and scp can be loaded as the same as the above procedure.\n",
    "\n"
   ]
  },
  {
   "cell_type": "code",
   "execution_count": 17,
   "metadata": {
    "colab": {
     "base_uri": "https://localhost:8080/",
     "height": 260
    },
    "colab_type": "code",
    "id": "JazwdIVbDNFs",
    "outputId": "0ac7485e-7ea7-4519-a7e4-347d041e9389"
   },
   "outputs": [
    {
     "name": "stdout",
     "output_type": "stream",
     "text": [
      "dump/test:\n",
      "data.json    feats.2.ark  feats.3.scp  feats.scp  utt2num_frames\n",
      "feats.1.ark  feats.2.scp  feats.4.ark  filetype\n",
      "feats.1.scp  feats.3.ark  feats.4.scp  log\n",
      "\n",
      "dump/train_dev:\n",
      "data.json    feats.2.ark  feats.3.scp  feats.scp  utt2num_frames\n",
      "feats.1.ark  feats.2.scp  feats.4.ark  filetype\n",
      "feats.1.scp  feats.3.ark  feats.4.scp  log\n",
      "\n",
      "dump/train_nodev:\n",
      "data.json    feats.2.ark  feats.3.scp  feats.scp  utt2num_frames\n",
      "feats.1.ark  feats.2.scp  feats.4.ark  filetype\n",
      "feats.1.scp  feats.3.ark  feats.4.scp  log\n"
     ]
    }
   ],
   "source": [
    "!ls dump/*"
   ]
  },
  {
   "cell_type": "markdown",
   "metadata": {
    "colab_type": "text",
    "id": "eYtmQCDdDk0d"
   },
   "source": [
    "### Stage 2: Dictionary and json preparation\n",
    "\n",
    "This stage creates dictrionary from **data/train_nodev/text** and makes json file for training."
   ]
  },
  {
   "cell_type": "code",
   "execution_count": 18,
   "metadata": {
    "colab": {
     "base_uri": "https://localhost:8080/",
     "height": 173
    },
    "colab_type": "code",
    "id": "fgWDdveUBctQ",
    "outputId": "1f32337d-5e62-4462-d908-224b277ee647"
   },
   "outputs": [
    {
     "name": "stdout",
     "output_type": "stream",
     "text": [
      "dictionary: data/lang_1char/train_nodev_units.txt\n",
      "stage 2: Dictionary and Json Data Preparation\n",
      "28 data/lang_1char/train_nodev_units.txt\n",
      "/content/espnet/egs/an4/tts1/../../../utils/data2json.sh --feat dump/train_nodev/feats.scp data/train_nodev data/lang_1char/train_nodev_units.txt\n",
      "/content/espnet/egs/an4/tts1/../../../utils/feat_to_shape.sh --cmd run.pl --nj 1 --filetype  --preprocess-conf  --verbose 0 dump/train_nodev/feats.scp data/train_nodev/tmp-6VLm9/input/shape.scp\n",
      "/content/espnet/egs/an4/tts1/../../../utils/data2json.sh --feat dump/train_dev/feats.scp data/train_dev data/lang_1char/train_nodev_units.txt\n",
      "/content/espnet/egs/an4/tts1/../../../utils/feat_to_shape.sh --cmd run.pl --nj 1 --filetype  --preprocess-conf  --verbose 0 dump/train_dev/feats.scp data/train_dev/tmp-g5AHB/input/shape.scp\n",
      "/content/espnet/egs/an4/tts1/../../../utils/data2json.sh --feat dump/test/feats.scp data/test data/lang_1char/train_nodev_units.txt\n",
      "/content/espnet/egs/an4/tts1/../../../utils/feat_to_shape.sh --cmd run.pl --nj 1 --filetype  --preprocess-conf  --verbose 0 dump/test/feats.scp data/test/tmp-U7FtO/input/shape.scp\n"
     ]
    }
   ],
   "source": [
    "!./run.sh --stage 2 --stop_stage 2"
   ]
  },
  {
   "cell_type": "markdown",
   "metadata": {
    "colab_type": "text",
    "id": "IB-eU-W1FNLk"
   },
   "source": [
    "Dictrionary file will be created in **data/lang_1char/**.  \n",
    "Dictionary file consists of `<token>` `<token index>`.  \n",
    "Here, `<token index>` starts from 1 because 0 is used as padding index.\n"
   ]
  },
  {
   "cell_type": "code",
   "execution_count": 19,
   "metadata": {
    "colab": {
     "base_uri": "https://localhost:8080/",
     "height": 521
    },
    "colab_type": "code",
    "id": "q8S74SjdFXcF",
    "outputId": "02f0fd30-a05f-4804-b6a8-5938782269d6"
   },
   "outputs": [
    {
     "name": "stdout",
     "output_type": "stream",
     "text": [
      "lang_1char  test  train  train_dev  train_nodev\n",
      "<unk> 1\n",
      "<space> 2\n",
      "A 3\n",
      "B 4\n",
      "C 5\n",
      "D 6\n",
      "E 7\n",
      "F 8\n",
      "G 9\n",
      "H 10\n",
      "I 11\n",
      "J 12\n",
      "K 13\n",
      "L 14\n",
      "M 15\n",
      "N 16\n",
      "O 17\n",
      "P 18\n",
      "Q 19\n",
      "R 20\n",
      "S 21\n",
      "T 22\n",
      "U 23\n",
      "V 24\n",
      "W 25\n",
      "X 26\n",
      "Y 27\n",
      "Z 28\n"
     ]
    }
   ],
   "source": [
    "!ls data\n",
    "!cat data/lang_1char/train_nodev_units.txt"
   ]
  },
  {
   "cell_type": "markdown",
   "metadata": {
    "colab_type": "text",
    "id": "b-QO0MLGGaBO"
   },
   "source": [
    "Json file will be created for training / validation /evaludation sets and they are saved as **dump/{train_nodev,train_dev,test}/data.json**."
   ]
  },
  {
   "cell_type": "code",
   "execution_count": 20,
   "metadata": {
    "colab": {
     "base_uri": "https://localhost:8080/",
     "height": 34
    },
    "colab_type": "code",
    "id": "BrYKpYVUGh6K",
    "outputId": "1f168c10-6407-411e-b617-eafc5b1dae24"
   },
   "outputs": [
    {
     "name": "stdout",
     "output_type": "stream",
     "text": [
      "dump/test/data.json  dump/train_dev/data.json  dump/train_nodev/data.json\n"
     ]
    }
   ],
   "source": [
    "!ls dump/*/*.json"
   ]
  },
  {
   "cell_type": "markdown",
   "metadata": {
    "colab_type": "text",
    "id": "CoRMOHDnG1Xk"
   },
   "source": [
    "Each json file contains all of the information in the data directory."
   ]
  },
  {
   "cell_type": "code",
   "execution_count": 21,
   "metadata": {
    "colab": {
     "base_uri": "https://localhost:8080/",
     "height": 486
    },
    "colab_type": "code",
    "id": "O_My36NFHAVI",
    "outputId": "02642af2-6ae1-4c64-ab74-3b9ee2ada422"
   },
   "outputs": [
    {
     "name": "stdout",
     "output_type": "stream",
     "text": [
      "{\n",
      "    \"utts\": {\n",
      "        \"fash-an251-b\": {\n",
      "            \"input\": [\n",
      "                {\n",
      "                    \"feat\": \"/content/espnet/egs/an4/tts1/dump/train_nodev/feats.1.ark:13\",\n",
      "                    \"name\": \"input1\",\n",
      "                    \"shape\": [\n",
      "                        63,\n",
      "                        80\n",
      "                    ]\n",
      "                }\n",
      "            ],\n",
      "            \"output\": [\n",
      "                {\n",
      "                    \"name\": \"target1\",\n",
      "                    \"shape\": [\n",
      "                        3,\n",
      "                        30\n",
      "                    ],\n",
      "                    \"text\": \"YES\",\n",
      "                    \"token\": \"Y E S\",\n",
      "                    \"tokenid\": \"27 7 21\"\n",
      "                }\n",
      "            ],\n",
      "            \"utt2spk\": \"fash\"\n",
      "        },\n"
     ]
    }
   ],
   "source": [
    "!head -n 27 dump/train_nodev/data.json"
   ]
  },
  {
   "cell_type": "markdown",
   "metadata": {
    "colab_type": "text",
    "id": "O88CpXHtHnZA"
   },
   "source": [
    "- \"shape\": Shape of the input or output sequence. Here input shape [63, 80] represents the number of frames = 63 and the dimension of mel-spectrogram = 80.\n",
    "- \"text\": Original transcription.\n",
    "- \"token\": Token sequence of original transcription.\n",
    "- \"tokenid\" Token id sequence of original transcription, which is converted using the dictionary.\n",
    "\n",
    "Now ready to start training!"
   ]
  },
  {
   "cell_type": "markdown",
   "metadata": {
    "colab_type": "text",
    "id": "QUkLphZbIw51"
   },
   "source": [
    "### Stage 3: Network training\n",
    "\n",
    "This stage performs training of the network.  \n",
    "Network training configurations are written as **.yaml** format file.  \n",
    "Let us check the default cofiguration **conf/train_pytroch_tacotron2.yaml**."
   ]
  },
  {
   "cell_type": "code",
   "execution_count": 22,
   "metadata": {
    "colab": {
     "base_uri": "https://localhost:8080/",
     "height": 816
    },
    "colab_type": "code",
    "id": "b-f5K2bYOaVY",
    "outputId": "22c2ec06-6a8a-4440-8ab3-e3eb877fdb68"
   },
   "outputs": [
    {
     "name": "stdout",
     "output_type": "stream",
     "text": [
      "# This is the basic tactron2 training settting\n",
      "\n",
      "# encoder related\n",
      "embed-dim: 512\n",
      "elayers: 1\n",
      "eunits: 512\n",
      "econv-layers: 3 # if set 0, no conv layer is used\n",
      "econv-chans: 512\n",
      "econv-filts: 5\n",
      "\n",
      "# decoder related\n",
      "dlayers: 2\n",
      "dunits: 1024\n",
      "prenet-layers: 2  # if set 0, no prenet is used\n",
      "prenet-units: 256\n",
      "postnet-layers: 5 # if set 0, no postnet is used\n",
      "postnet-chans: 512\n",
      "postnet-filts: 5\n",
      "\n",
      "# attention related\n",
      "atype: location\n",
      "adim: 128\n",
      "aconv-chans: 32\n",
      "aconv-filts: 15      # resulting in filter-size = aconv-filts * 2 + 1\n",
      "cumulate-att-w: true # whether to cumulate attetion weight\n",
      "use-batch-norm: true # whether to use batch normalization in conv layer\n",
      "use-concate: true    # whether to concatenate encoder embedding with decoder lstm outputs\n",
      "use-residual: false  # whether to use residual connection in encoder convolution\n",
      "use-masking: true    # whether to mask the padded part in loss calculation\n",
      "bce-pos-weight: 1.0  # weight for positive samples of stop token in cross-entropy calculation\n",
      "reduction-factor: 2\n",
      "\n",
      "# minibatch related\n",
      "batch-size: 32\n",
      "batch-sort-key: shuffle # shuffle or input or output\n",
      "maxlen-in: 150     # if input length  > maxlen-in, batchsize is reduced (if use \"shuffle\", not effect)\n",
      "maxlen-out: 400    # if output length > maxlen-out, batchsize is reduced (if use \"shuffle\", not effect)\n",
      "\n",
      "# optimization related\n",
      "lr: 1e-3\n",
      "eps: 1e-6\n",
      "weight-decay: 0.0\n",
      "dropout-rate: 0.5\n",
      "zoneout-rate: 0.1\n",
      "epochs: 50\n",
      "patience: 5\n"
     ]
    }
   ],
   "source": [
    "!cat conf/train_pytorch_tacotron2.yaml"
   ]
  },
  {
   "cell_type": "markdown",
   "metadata": {
    "colab_type": "text",
    "id": "6_QmCAS1OlD2"
   },
   "source": [
    "You can modify this configuration file to change the hyperparameters.  \n",
    "Here, let's change the number of epochs for this demonstration."
   ]
  },
  {
   "cell_type": "code",
   "execution_count": 23,
   "metadata": {
    "colab": {
     "base_uri": "https://localhost:8080/",
     "height": 816
    },
    "colab_type": "code",
    "id": "f2Q9sYVxOjzm",
    "outputId": "e32d1ff5-dd58-41b0-8475-0eeb8ca65f16"
   },
   "outputs": [
    {
     "name": "stdout",
     "output_type": "stream",
     "text": [
      "# This is the basic tactron2 training settting\n",
      "\n",
      "# encoder related\n",
      "embed-dim: 512\n",
      "elayers: 1\n",
      "eunits: 512\n",
      "econv-layers: 3 # if set 0, no conv layer is used\n",
      "econv-chans: 512\n",
      "econv-filts: 5\n",
      "\n",
      "# decoder related\n",
      "dlayers: 2\n",
      "dunits: 1024\n",
      "prenet-layers: 2  # if set 0, no prenet is used\n",
      "prenet-units: 256\n",
      "postnet-layers: 5 # if set 0, no postnet is used\n",
      "postnet-chans: 512\n",
      "postnet-filts: 5\n",
      "\n",
      "# attention related\n",
      "atype: location\n",
      "adim: 128\n",
      "aconv-chans: 32\n",
      "aconv-filts: 15      # resulting in filter-size = aconv-filts * 2 + 1\n",
      "cumulate-att-w: true # whether to cumulate attetion weight\n",
      "use-batch-norm: true # whether to use batch normalization in conv layer\n",
      "use-concate: true    # whether to concatenate encoder embedding with decoder lstm outputs\n",
      "use-residual: false  # whether to use residual connection in encoder convolution\n",
      "use-masking: true    # whether to mask the padded part in loss calculation\n",
      "bce-pos-weight: 1.0  # weight for positive samples of stop token in cross-entropy calculation\n",
      "reduction-factor: 2\n",
      "\n",
      "# minibatch related\n",
      "batch-size: 32\n",
      "batch-sort-key: shuffle # shuffle or input or output\n",
      "maxlen-in: 150     # if input length  > maxlen-in, batchsize is reduced (if use \"shuffle\", not effect)\n",
      "maxlen-out: 400    # if output length > maxlen-out, batchsize is reduced (if use \"shuffle\", not effect)\n",
      "\n",
      "# optimization related\n",
      "lr: 1e-3\n",
      "eps: 1e-6\n",
      "weight-decay: 0.0\n",
      "dropout-rate: 0.5\n",
      "zoneout-rate: 0.1\n",
      "epochs: 3\n",
      "patience: 5\n"
     ]
    }
   ],
   "source": [
    "# TODO(kan-bayashi): Change here to use change_yaml.py\n",
    "!cat conf/train_pytorch_tacotron2.yaml | sed -e \"s/epochs: 50/epochs: 3/g\" > conf/train_pytorch_tacotron2_sample.yaml\n",
    "!cat conf/train_pytorch_tacotron2_sample.yaml"
   ]
  },
  {
   "cell_type": "markdown",
   "metadata": {
    "colab_type": "text",
    "id": "MlkD_x4wRD80"
   },
   "source": [
    "Let's train the network.  \n",
    "You can specify the config file via **--train_config** option.\n",
    "It takes several minutes.\n"
   ]
  },
  {
   "cell_type": "code",
   "execution_count": 24,
   "metadata": {
    "colab": {
     "base_uri": "https://localhost:8080/",
     "height": 69
    },
    "colab_type": "code",
    "id": "cgdY6vp0Bhy4",
    "outputId": "73a6fc3a-5e44-4dd7-c229-42037276ba44"
   },
   "outputs": [
    {
     "name": "stdout",
     "output_type": "stream",
     "text": [
      "dictionary: data/lang_1char/train_nodev_units.txt\n",
      "stage 3: Text-to-speech model training\n",
      "^C\n"
     ]
    }
   ],
   "source": [
    "!./run.sh --stage 3 --stop_stage 3 --train_config conf/train_pytorch_tacotron2_sample.yaml --verbose 1"
   ]
  },
  {
   "cell_type": "markdown",
   "metadata": {
    "colab_type": "text",
    "id": "HsN8qD1gKnTc"
   },
   "source": [
    "You can see the training log in `exp/train_*/train.log`."
   ]
  },
  {
   "cell_type": "markdown",
   "metadata": {
    "colab_type": "text",
    "id": "wy0rXqBNTAtk"
   },
   "source": [
    "The models are saved in `exp/train_*/results/` directory."
   ]
  },
  {
   "cell_type": "code",
   "execution_count": 26,
   "metadata": {
    "colab": {
     "base_uri": "https://localhost:8080/",
     "height": 208
    },
    "colab_type": "code",
    "id": "YRxIFjnWS_t9",
    "outputId": "5408227c-5118-4b6f-f36f-e6a72e3ddc58"
   },
   "outputs": [
    {
     "name": "stdout",
     "output_type": "stream",
     "text": [
      "exp/train_nodev_pytorch_train_pytorch_tacotron2_sample/results:\n",
      "all_loss.png  l1_loss.png  model.loss.best  snapshot.ep.2\n",
      "att_ws\t      loss.png\t   mse_loss.png     snapshot.ep.3\n",
      "bce_loss.png  model.json   snapshot.ep.1\n",
      "\n",
      "exp/train_nodev_pytorch_train_pytorch_tacotron2_sample/results/att_ws:\n",
      "fash-an251-b.ep.1.png  fash-an253-b.ep.3.png  fash-an255-b.ep.2.png\n",
      "fash-an251-b.ep.2.png  fash-an254-b.ep.1.png  fash-an255-b.ep.3.png\n",
      "fash-an251-b.ep.3.png  fash-an254-b.ep.2.png  fash-cen1-b.ep.1.png\n",
      "fash-an253-b.ep.1.png  fash-an254-b.ep.3.png  fash-cen1-b.ep.2.png\n",
      "fash-an253-b.ep.2.png  fash-an255-b.ep.1.png  fash-cen1-b.ep.3.png\n"
     ]
    }
   ],
   "source": [
    "!ls exp/train_nodev_pytorch_train_pytorch_tacotron2_sample/{results,results/att_ws}"
   ]
  },
  {
   "cell_type": "markdown",
   "metadata": {
    "colab_type": "text",
    "id": "_vyKmHl8T5uj"
   },
   "source": [
    "`exp/train_*/results/*.png` are the figures of training curve."
   ]
  },
  {
   "cell_type": "code",
   "execution_count": 27,
   "metadata": {
    "colab": {
     "base_uri": "https://localhost:8080/",
     "height": 1000
    },
    "colab_type": "code",
    "id": "Dwee4a8NUOBg",
    "outputId": "ea2a6c3f-4296-4ab7-f918-2d378227aec8"
   },
   "outputs": [
    {
     "name": "stdout",
     "output_type": "stream",
     "text": [
      "all loss curve\n"
     ]
    },
    {
     "data": {
      "image/png": "[encoded data removed]"
     },
     "metadata": {
      "tags": []
     },
     "output_type": "display_data"
    },
    {
     "name": "stdout",
     "output_type": "stream",
     "text": [
      "l1 loss curve\n"
     ]
    },
    {
     "data": {
      "image/png": "[encoded data removed]"
     },
     "metadata": {
      "tags": []
     },
     "output_type": "display_data"
    },
    {
     "name": "stdout",
     "output_type": "stream",
     "text": [
      "mse loss curve\n"
     ]
    },
    {
     "data": {
      "image/png": "[encoded data removed]"
     },
     "metadata": {
      "tags": []
     },
     "output_type": "display_data"
    },
    {
     "name": "stdout",
     "output_type": "stream",
     "text": [
      "bce loss curve\n"
     ]
    },
    {
     "data": {
      "image/png": "[encoded data removed]"
     },
     "metadata": {
      "tags": []
     },
     "output_type": "display_data"
    }
   ],
   "source": [
    "from IPython.display import Image, display_png\n",
    "print(\"all loss curve\")\n",
    "display_png(Image(\"exp/train_nodev_pytorch_train_pytorch_tacotron2_sample/results/all_loss.png\"))\n",
    "print(\"l1 loss curve\")\n",
    "display_png(Image(\"exp/train_nodev_pytorch_train_pytorch_tacotron2_sample/results/l1_loss.png\"))\n",
    "print(\"mse loss curve\")\n",
    "display_png(Image(\"exp/train_nodev_pytorch_train_pytorch_tacotron2_sample/results/mse_loss.png\"))\n",
    "print(\"bce loss curve\")\n",
    "display_png(Image(\"exp/train_nodev_pytorch_train_pytorch_tacotron2_sample/results/bce_loss.png\"))"
   ]
  },
  {
   "cell_type": "markdown",
   "metadata": {
    "colab_type": "text",
    "id": "Ui57IrR4VCpv"
   },
   "source": [
    "`exp/train_*/results/att_ws/.png` are the figures of attention weights in each epoch."
   ]
  },
  {
   "cell_type": "code",
   "execution_count": 28,
   "metadata": {
    "colab": {
     "base_uri": "https://localhost:8080/",
     "height": 514
    },
    "colab_type": "code",
    "id": "NyMW2tx0VKjC",
    "outputId": "d301ec6f-1a0a-4aa5-efb7-c69fd978d4ae"
   },
   "outputs": [
    {
     "name": "stdout",
     "output_type": "stream",
     "text": [
      "Attention weights of initial epoch\n"
     ]
    },
    {
     "data": {
      "image/png": "[encoded data removed]"
     },
     "metadata": {
      "tags": []
     },
     "output_type": "display_data"
    }
   ],
   "source": [
    "print(\"Attention weights of initial epoch\")\n",
    "display_png(Image(\"exp/train_nodev_pytorch_train_pytorch_tacotron2_sample/results/att_ws/fash-cen1-b.ep.1.png\"))"
   ]
  },
  {
   "cell_type": "markdown",
   "metadata": {
    "colab_type": "text",
    "id": "s6_hIi3OVsvZ"
   },
   "source": [
    "`exp/train_*/results/model.loss.best` contains only the model parameters.  \n",
    "On the other hand, `exp/train_*/results/snapshot` contains the model parameters, optimizer states, and iterator states.  \n",
    "So you can restart from the training by specifying the snapshot file with **--resume** option.\n"
   ]
  },
  {
   "cell_type": "code",
   "execution_count": 0,
   "metadata": {
    "colab": {
     "base_uri": "https://localhost:8080/",
     "height": 89
    },
    "colab_type": "code",
    "id": "bYY323h4WVgQ",
    "outputId": "2767c24d-3d0e-41e8-9cca-147b77813266"
   },
   "outputs": [
    {
     "name": "stdout",
     "output_type": "stream",
     "text": [
      "dictionary: data/lang_1char/train_nodev_units.txt\n",
      "stage 3: Text-to-speech model training\n"
     ]
    }
   ],
   "source": [
    "# resume training from snapshot.ep.2\n",
    "!./run.sh --stage 3 --stop_stage 3 --train_config conf/train_pytorch_tacotron2_sample.yaml --resume exp/train_nodev_pytorch_train_pytorch_tacotron2_sample/results/snapshot.ep.2 --verbose 1"
   ]
  },
  {
   "cell_type": "code",
   "execution_count": 0,
   "metadata": {
    "colab": {},
    "colab_type": "code",
    "collapsed": true,
    "id": "JNfzDyQRWsf-"
   },
   "outputs": [],
   "source": [
    "!cat exp/train_nodev_pytorch_train_pytorch_tacotron2_sample/train.log"
   ]
  },
  {
   "cell_type": "markdown",
   "metadata": {
    "colab_type": "text",
    "id": "JjkrYF-NeZoM"
   },
   "source": [
    "Also, we support tensorboard.  \n",
    "You can see the training log through tensorboard."
   ]
  },
  {
   "cell_type": "code",
   "execution_count": 0,
   "metadata": {
    "colab": {},
    "colab_type": "code",
    "id": "OqwnbGznmrgb"
   },
   "outputs": [],
   "source": [
    "%load_ext tensorboard\n",
    "%tensorboard --logdir tensorboard/train_nodev_pytorch_train_pytorch_tacotron2_sample/"
   ]
  },
  {
   "cell_type": "markdown",
   "metadata": {
    "colab_type": "text",
    "id": "88UvHDgGJSLX"
   },
   "source": [
    "### Stage 4: Network decoding\n",
    "\n",
    "This stage performs decoding using the trained model to generate mel-spectrogram from a given text.  \n"
   ]
  },
  {
   "cell_type": "code",
   "execution_count": 0,
   "metadata": {
    "colab": {},
    "colab_type": "code",
    "id": "PjVP2QPXBmav"
   },
   "outputs": [],
   "source": [
    "!./run.sh --stage 4 --stop_stage 4 --nj 8 --train_config conf/train_pytorch_tacotron2_sample.yaml "
   ]
  },
  {
   "cell_type": "markdown",
   "metadata": {
    "colab_type": "text",
    "id": "I7-8ja9kcdDG"
   },
   "source": [
    "Generated features are saved as ark/scp format."
   ]
  },
  {
   "cell_type": "code",
   "execution_count": 0,
   "metadata": {
    "colab": {},
    "colab_type": "code",
    "id": "8V_g_VbDckjT"
   },
   "outputs": [],
   "source": [
    "!ls exp/train_nodev_pytorch_train_pytorch_tacotron2_sample/outputs_model.loss.best_decode/*"
   ]
  },
  {
   "cell_type": "markdown",
   "metadata": {
    "colab_type": "text",
    "id": "eLvdP4z9cJKc"
   },
   "source": [
    "We can specify the model or snapshot to be used for decoding via **--model**.   "
   ]
  },
  {
   "cell_type": "code",
   "execution_count": 0,
   "metadata": {
    "colab": {},
    "colab_type": "code",
    "id": "_Op5GAW6cM7q"
   },
   "outputs": [],
   "source": [
    "!./run.sh --stage 4 --stop_stage 4 --nj 8 --train_config conf/train_pytorch_tacotron2_sample.yaml --model snapshot.ep.2"
   ]
  },
  {
   "cell_type": "code",
   "execution_count": 0,
   "metadata": {
    "colab": {},
    "colab_type": "code",
    "id": "hFowPMOsdvY9"
   },
   "outputs": [],
   "source": [
    "!ls exp/train_nodev_pytorch_train_pytorch_tacotron2_sample/outputs_snapshot.ep.2_decode/*"
   ]
  },
  {
   "cell_type": "markdown",
   "metadata": {
    "colab_type": "text",
    "id": "9A74Jv8KL_FC"
   },
   "source": [
    "### Stage 5: Waveform synthesis\n",
    "\n",
    "Finally, in this stage, we generate waveform using Grrifin-Lim algorithm.  \n",
    "First, we perform de-normalization to convert the generated mel-spectrogram into the original scale.  \n",
    "Then we apply Grrifin-Lim algorithm to restore phase components and apply inverse STFT to generate waveforms."
   ]
  },
  {
   "cell_type": "code",
   "execution_count": 0,
   "metadata": {
    "colab": {},
    "colab_type": "code",
    "id": "wasoVKklc4eS"
   },
   "outputs": [],
   "source": [
    "!./run.sh --stage 5 --stop_stage 5 --nj 8 --train_config conf/train_pytorch_tacotron2_sample.yaml --griffin_lim_iters 50"
   ]
  },
  {
   "cell_type": "markdown",
   "metadata": {
    "colab_type": "text",
    "id": "E7eoOkRYeIhN"
   },
   "source": [
    "Generated wav files are saved in `exp/train_nodev_pytorch_train_pytorch_tacotron2_sample/outputs_model.loss.best_decode_denorm/*/wav`"
   ]
  },
  {
   "cell_type": "code",
   "execution_count": 0,
   "metadata": {
    "colab": {},
    "colab_type": "code",
    "id": "r-pfSNMheHdf"
   },
   "outputs": [],
   "source": [
    "!ls exp/train_nodev_pytorch_train_pytorch_tacotron2_sample/outputs_model.loss.best_decode_denorm/*/wav"
   ]
  },
  {
   "cell_type": "code",
   "execution_count": 0,
   "metadata": {
    "colab": {},
    "colab_type": "code",
    "id": "kp6LcFfih0hJ"
   },
   "outputs": [],
   "source": [
    "!tree -L 3"
   ]
  },
  {
   "cell_type": "markdown",
   "metadata": {
    "colab_type": "text",
    "id": "ti5PArvce6HU"
   },
   "source": [
    "## NEXT step\n",
    "\n",
    "- Try pretrained model to generate speech.\n",
    "- Try a large single speaker dataset recipe **egs/ljspeech/tts1**.\n",
    "- Try a large multi-speaker recipe **egs/libritts/tts1**.\n",
    "- Make the original recipe using your own dataset."
   ]
  }
 ],
 "metadata": {
  "accelerator": "GPU",
  "colab": {
   "collapsed_sections": [],
   "name": "tts_an4.ipynb",
   "provenance": [],
   "version": "0.3.2"
  },
  "kernelspec": {
   "display_name": "Python 3",
   "name": "python3"
  }
 },
 "nbformat": 4,
 "nbformat_minor": 0
}
